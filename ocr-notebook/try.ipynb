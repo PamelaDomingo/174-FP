{
 "cells": [
  {
   "cell_type": "code",
   "execution_count": null,
   "id": "67039dad",
   "metadata": {},
   "outputs": [],
   "source": [
    "!pip install easyocr\n",
    "!pip install opencv-python"
   ]
  },
  {
   "cell_type": "code",
   "execution_count": null,
   "id": "a848cb55",
   "metadata": {},
   "outputs": [],
   "source": [
    "import matplotlib.pyplot as plt\n",
    "import cv2\n",
    "import easyocr\n",
    "from IPython.display import Image"
   ]
  },
  {
   "cell_type": "code",
   "execution_count": null,
   "id": "fe021f82",
   "metadata": {},
   "outputs": [],
   "source": [
    "haarcascade = \"..\\model\\haarcascade_russian_plate_number.xml\"\n",
    "\n",
    "cap = cv2.VideoCapture(0)\n",
    "\n",
    "cap.set(3,640) # width\n",
    "cap.set(4,480) # height\n",
    "\n",
    "min_area = 1000\n",
    "count = 0\n",
    "while True:\n",
    "    success, img = cap.read()\n",
    "    cv2.imshow(\"Result\", img)\n",
    "    plate_cascade = cv2.CascadeClassifier(haarcascade)\n",
    "    img_gray = cv2.cvtColor(img, cv2.COLOR_BGR2GRAY)\n",
    "\n",
    "    plates = plate_cascade.detectMultiScale(img_gray, 1.1, 4)\n",
    "   \n",
    "    \n",
    "#     for (x,y,w,h) in plates:\n",
    "#         area = w * h\n",
    "\n",
    "#         if area > min_area:\n",
    "#             cv2.rectangle(img, (x,y), (x+w, y+h), (0,255,0), 2)\n",
    "#             cv2.putText(img, \"Number Plate\", (x,y-5), cv2.FONT_HERSHEY_COMPLEX_SMALL, 1, (255,0,255), 2)\n",
    "    \n",
    "#             img_roi = img[y:y+h, x:x+w]\n",
    "#             cv2.imshow(\"ROI\", img_roi)\n",
    "\n",
    "#     cv2.imshow(\"Result\", img)\n",
    "\n",
    "   \n",
    "#     if cv2.waitKey(1) & 0xFF == ord('s'):\n",
    "#         cv2.imwrite(\"../plates/scanned_img_\" + str(count) + \".jpg\", img_roi)\n",
    "#         cv2.rectangle(img, (0,200), (640,300), (0,255,0), cv2.FILLED)\n",
    "#         cv2.putText(img, \"Plate Saved\", (150,265), cv2.FONT_HERSHEY_COMPLEX_SMALL, 2, (0,0,255), 2)\n",
    "#         cv2.imshow(\"Results\", img)\n",
    "#         cv2.waitKey(500)\n",
    "#         count += 1\n",
    "# #     elif cv2.waitKey(33):\n",
    "# #         continue\n",
    "# #     else:\n",
    "# #         break\n",
    "cap.release(0)\n",
    "cv2.destroyAllWindows()\n"
   ]
  },
  {
   "cell_type": "code",
   "execution_count": null,
   "id": "f12842ab",
   "metadata": {},
   "outputs": [],
   "source": [
    "pip list "
   ]
  },
  {
   "cell_type": "code",
   "execution_count": null,
   "id": "1dc9c6df",
   "metadata": {},
   "outputs": [],
   "source": [
    "pip uninstall opencv-python-headless -y \n"
   ]
  },
  {
   "cell_type": "code",
   "execution_count": null,
   "id": "b939f37d",
   "metadata": {},
   "outputs": [],
   "source": [
    "pip install opencv-python --upgrade"
   ]
  },
  {
   "cell_type": "code",
   "execution_count": null,
   "id": "96c9d3ea",
   "metadata": {},
   "outputs": [],
   "source": []
  }
 ],
 "metadata": {
  "kernelspec": {
   "display_name": "Python 3 (ipykernel)",
   "language": "python",
   "name": "python3"
  },
  "language_info": {
   "codemirror_mode": {
    "name": "ipython",
    "version": 3
   },
   "file_extension": ".py",
   "mimetype": "text/x-python",
   "name": "python",
   "nbconvert_exporter": "python",
   "pygments_lexer": "ipython3",
   "version": "3.10.9"
  }
 },
 "nbformat": 4,
 "nbformat_minor": 5
}
