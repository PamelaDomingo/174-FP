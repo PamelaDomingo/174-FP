{
 "cells": [
  {
   "cell_type": "code",
   "execution_count": null,
   "metadata": {
    "colab": {
     "base_uri": "https://localhost:8080/"
    },
    "id": "hD8TRh0rCSmO",
    "outputId": "c60b9fe5-37e5-4833-fbcc-248ceb569807"
   },
   "outputs": [],
   "source": [
    "!pip install easyocr\n",
    "!pip install opencv-python"
   ]
  },
  {
   "cell_type": "code",
   "execution_count": null,
   "metadata": {
    "id": "6wKgPU52CZ6K"
   },
   "outputs": [],
   "source": [
    "import matplotlib.pyplot as plt\n",
    "import cv2\n",
    "import easyocr\n",
    "from IPython.display import Image"
   ]
  },
  {
   "cell_type": "code",
   "execution_count": null,
   "metadata": {},
   "outputs": [],
   "source": [
    "haarcascade = \"..\\model\\haarcascade_russian_plate_number.xml\"\n",
    "\n",
    "cap = cv2.VideoCapture(0)\n",
    "\n",
    "cap.set(3,640) # width\n",
    "cap.set(4,480) # height\n",
    "\n",
    "min_area = 1000\n",
    "count = 0\n"
   ]
  },
  {
   "cell_type": "code",
   "execution_count": null,
   "metadata": {},
   "outputs": [],
   "source": [
    "while True:\n",
    "    success, img = cap.read()\n",
    "\n",
    "    plate_cascade = cv2.CascadeClassifier(haarcascade)\n",
    "    img_gray = cv2.cvtColor(img, cv2.COLOR_BGR2GRAY)\n",
    "\n",
    "    plates = plate_cascade.detectMultiScale(img_gray, 1.1, 4)\n",
    "\n",
    "    for (x,y,w,h) in plates:\n",
    "        area = w * h\n",
    "\n",
    "        if area > min_area:\n",
    "            cv2.rectangle(img, (x,y), (x+w, y+h), (0,255,0), 2)\n",
    "            cv2.putText(img, \"Number Plate\", (x,y-5), cv2.FONT_HERSHEY_COMPLEX_SMALL, 1, (255,0,255), 2)\n",
    "    \n",
    "            img_roi = img[y:y+h, x:x+w]\n",
    "            cv2.imshow(\"ROI\", img_roi)\n",
    "\n",
    "    cv2.imshow(\"Result\", img)\n",
    "\n",
    "   \n",
    "#     if cv2.waitKey(1) & 0xFF == ord('s'):\n",
    "#         cv2.imwrite(\"../plates/scanned_img_\" + str(count) + \".jpg\", img_roi)\n",
    "#         cv2.rectangle(img, (0,200), (640,300), (0,255,0), cv2.FILLED)\n",
    "#         cv2.putText(img, \"Plate Saved\", (150,265), cv2.FONT_HERSHEY_COMPLEX_SMALL, 2, (0,0,255), 2)\n",
    "#         cv2.imshow(\"Results\", img)\n",
    "#         cv2.waitKey(500)\n",
    "#         count += 1\n",
    "#     elif cv2.waitKey(1) & 0xFF == ord('q'):\n",
    "cap.release(0)\n",
    "cv2.destroyAllWindows"
   ]
  },
  {
   "cell_type": "code",
   "execution_count": null,
   "metadata": {},
   "outputs": [],
   "source": []
  },
  {
   "cell_type": "code",
   "execution_count": null,
   "metadata": {
    "colab": {
     "base_uri": "https://localhost:8080/",
     "height": 65
    },
    "id": "hxBLiy0AChPp",
    "outputId": "6f8e0eb9-eeaf-4561-dd16-50689139a125"
   },
   "outputs": [],
   "source": [
    "Image(\"../plates/scanned_img_0.jpg\")"
   ]
  },
  {
   "cell_type": "code",
   "execution_count": null,
   "metadata": {
    "colab": {
     "base_uri": "https://localhost:8080/"
    },
    "id": "ZYD5fu4NCq2U",
    "outputId": "8a9390ef-9bad-443f-88d8-48411a496fc6",
    "scrolled": true
   },
   "outputs": [],
   "source": [
    "reader = easyocr.Reader(['en'])"
   ]
  },
  {
   "cell_type": "code",
   "execution_count": null,
   "metadata": {
    "id": "ZCHP-450Cl9x"
   },
   "outputs": [],
   "source": [
    "output = reader.readtext('../plates/scanned_img_0.jpg')\n",
    "output"
   ]
  },
  {
   "cell_type": "code",
   "execution_count": null,
   "metadata": {
    "id": "SW8P4tA2DHKh"
   },
   "outputs": [],
   "source": [
    "cord = output[-1][0]\n",
    "cord"
   ]
  },
  {
   "cell_type": "code",
   "execution_count": null,
   "metadata": {
    "colab": {
     "base_uri": "https://localhost:8080/"
    },
    "id": "3nXoyWdoEc2i",
    "outputId": "71c34b51-6ea6-4274-b6e8-e731cfe78afb"
   },
   "outputs": [],
   "source": [
    "a = list(zip(*cord))\n",
    "a"
   ]
  },
  {
   "cell_type": "code",
   "execution_count": null,
   "metadata": {
    "colab": {
     "base_uri": "https://localhost:8080/"
    },
    "id": "-Talju53ExKb",
    "outputId": "678b4ff1-531c-46d6-ec2e-e6b209d0dc8e"
   },
   "outputs": [],
   "source": [
    "min(a[0])\n",
    "min(a[1])\n",
    "\n",
    "max(a[0])\n",
    "max(a[1])\n",
    "\n",
    "print(min(a[0]), min(a[1]), max(a[0]), max(a[1]),)"
   ]
  },
  {
   "cell_type": "code",
   "execution_count": null,
   "metadata": {
    "id": "7zwP5q_zDKuh"
   },
   "outputs": [],
   "source": [
    "x_min, y_min = [int(min(idx)) for idx in zip(*cord)]\n",
    "x_min, y_min"
   ]
  },
  {
   "cell_type": "code",
   "execution_count": null,
   "metadata": {
    "id": "XSPxi2_RDMXJ"
   },
   "outputs": [],
   "source": [
    "x_max, y_max = [int(max(idx)) for idx in zip(*cord)]\n",
    "x_max, y_max"
   ]
  },
  {
   "cell_type": "code",
   "execution_count": null,
   "metadata": {
    "id": "NNGr7AzoD3xK"
   },
   "outputs": [],
   "source": [
    "from pylab import rcParams\n",
    "rcParams['figure.figsize'] = 20, 30"
   ]
  },
  {
   "cell_type": "code",
   "execution_count": null,
   "metadata": {
    "colab": {
     "base_uri": "https://localhost:8080/",
     "height": 825
    },
    "id": "DSxNIGFGDNga",
    "outputId": "ed0de668-4fb3-4b71-af56-2942a58d15f0"
   },
   "outputs": [],
   "source": [
    "image = cv2.imread('../plates/scanned_img_0.jpg')\n",
    "cv2.rectangle(image,(x_min,y_min),(x_max,y_max),(0,0,255),2)\n",
    "plt.imshow(cv2.cvtColor(image, cv2.COLOR_BGR2RGB))"
   ]
  },
  {
   "cell_type": "code",
   "execution_count": null,
   "metadata": {
    "id": "4x7HEJ-dHzRp"
   },
   "outputs": [],
   "source": []
  }
 ],
 "metadata": {
  "accelerator": "GPU",
  "colab": {
   "provenance": []
  },
  "kernelspec": {
   "display_name": "Python 3 (ipykernel)",
   "language": "python",
   "name": "python3"
  },
  "language_info": {
   "codemirror_mode": {
    "name": "ipython",
    "version": 3
   },
   "file_extension": ".py",
   "mimetype": "text/x-python",
   "name": "python",
   "nbconvert_exporter": "python",
   "pygments_lexer": "ipython3",
   "version": "3.10.9"
  }
 },
 "nbformat": 4,
 "nbformat_minor": 1
}
