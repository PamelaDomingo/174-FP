{
 "cells": [
  {
   "cell_type": "code",
   "execution_count": 1,
   "metadata": {
    "colab": {
     "base_uri": "https://localhost:8080/"
    },
    "id": "hD8TRh0rCSmO",
    "outputId": "c60b9fe5-37e5-4833-fbcc-248ceb569807"
   },
   "outputs": [
    {
     "name": "stdout",
     "output_type": "stream",
     "text": [
      "Requirement already satisfied: easyocr in c:\\users\\pamela\\anaconda3\\lib\\site-packages (1.7.0)\n",
      "Requirement already satisfied: PyYAML in c:\\users\\pamela\\anaconda3\\lib\\site-packages (from easyocr) (6.0)\n",
      "Requirement already satisfied: ninja in c:\\users\\pamela\\anaconda3\\lib\\site-packages (from easyocr) (1.11.1)\n",
      "Requirement already satisfied: pyclipper in c:\\users\\pamela\\anaconda3\\lib\\site-packages (from easyocr) (1.3.0.post4)\n",
      "Requirement already satisfied: torchvision>=0.5 in c:\\users\\pamela\\anaconda3\\lib\\site-packages (from easyocr) (0.15.2)\n",
      "Requirement already satisfied: numpy in c:\\users\\pamela\\anaconda3\\lib\\site-packages (from easyocr) (1.23.5)\n",
      "Requirement already satisfied: python-bidi in c:\\users\\pamela\\anaconda3\\lib\\site-packages (from easyocr) (0.4.2)\n",
      "Requirement already satisfied: torch in c:\\users\\pamela\\anaconda3\\lib\\site-packages (from easyocr) (2.0.1)\n",
      "Requirement already satisfied: Pillow in c:\\users\\pamela\\anaconda3\\lib\\site-packages (from easyocr) (9.4.0)\n",
      "Requirement already satisfied: scikit-image in c:\\users\\pamela\\anaconda3\\lib\\site-packages (from easyocr) (0.19.3)\n",
      "Requirement already satisfied: scipy in c:\\users\\pamela\\anaconda3\\lib\\site-packages (from easyocr) (1.10.0)\n",
      "Requirement already satisfied: Shapely in c:\\users\\pamela\\anaconda3\\lib\\site-packages (from easyocr) (2.0.1)\n",
      "Requirement already satisfied: opencv-python-headless in c:\\users\\pamela\\anaconda3\\lib\\site-packages (from easyocr) (4.7.0.72)\n",
      "Requirement already satisfied: requests in c:\\users\\pamela\\anaconda3\\lib\\site-packages (from torchvision>=0.5->easyocr) (2.28.1)\n",
      "Requirement already satisfied: jinja2 in c:\\users\\pamela\\anaconda3\\lib\\site-packages (from torch->easyocr) (3.1.2)\n",
      "Requirement already satisfied: networkx in c:\\users\\pamela\\anaconda3\\lib\\site-packages (from torch->easyocr) (2.8.4)\n",
      "Requirement already satisfied: sympy in c:\\users\\pamela\\anaconda3\\lib\\site-packages (from torch->easyocr) (1.11.1)\n",
      "Requirement already satisfied: typing-extensions in c:\\users\\pamela\\anaconda3\\lib\\site-packages (from torch->easyocr) (4.4.0)\n",
      "Requirement already satisfied: filelock in c:\\users\\pamela\\anaconda3\\lib\\site-packages (from torch->easyocr) (3.9.0)\n",
      "Requirement already satisfied: six in c:\\users\\pamela\\anaconda3\\lib\\site-packages (from python-bidi->easyocr) (1.16.0)\n",
      "Requirement already satisfied: imageio>=2.4.1 in c:\\users\\pamela\\anaconda3\\lib\\site-packages (from scikit-image->easyocr) (2.26.0)\n",
      "Requirement already satisfied: packaging>=20.0 in c:\\users\\pamela\\anaconda3\\lib\\site-packages (from scikit-image->easyocr) (22.0)\n",
      "Requirement already satisfied: PyWavelets>=1.1.1 in c:\\users\\pamela\\anaconda3\\lib\\site-packages (from scikit-image->easyocr) (1.4.1)\n",
      "Requirement already satisfied: tifffile>=2019.7.26 in c:\\users\\pamela\\anaconda3\\lib\\site-packages (from scikit-image->easyocr) (2021.7.2)\n",
      "Requirement already satisfied: MarkupSafe>=2.0 in c:\\users\\pamela\\anaconda3\\lib\\site-packages (from jinja2->torch->easyocr) (2.1.1)\n",
      "Requirement already satisfied: urllib3<1.27,>=1.21.1 in c:\\users\\pamela\\anaconda3\\lib\\site-packages (from requests->torchvision>=0.5->easyocr) (1.26.14)\n",
      "Requirement already satisfied: charset-normalizer<3,>=2 in c:\\users\\pamela\\anaconda3\\lib\\site-packages (from requests->torchvision>=0.5->easyocr) (2.0.4)\n",
      "Requirement already satisfied: certifi>=2017.4.17 in c:\\users\\pamela\\anaconda3\\lib\\site-packages (from requests->torchvision>=0.5->easyocr) (2022.12.7)\n",
      "Requirement already satisfied: idna<4,>=2.5 in c:\\users\\pamela\\anaconda3\\lib\\site-packages (from requests->torchvision>=0.5->easyocr) (3.4)\n",
      "Requirement already satisfied: mpmath>=0.19 in c:\\users\\pamela\\anaconda3\\lib\\site-packages (from sympy->torch->easyocr) (1.2.1)\n",
      "Requirement already satisfied: opencv-python in c:\\users\\pamela\\anaconda3\\lib\\site-packages (4.7.0.72)\n",
      "Requirement already satisfied: numpy>=1.21.2 in c:\\users\\pamela\\anaconda3\\lib\\site-packages (from opencv-python) (1.23.5)\n"
     ]
    }
   ],
   "source": [
    "!pip install easyocr\n",
    "!pip install opencv-python"
   ]
  },
  {
   "cell_type": "code",
   "execution_count": 2,
   "metadata": {
    "id": "6wKgPU52CZ6K"
   },
   "outputs": [],
   "source": [
    "import matplotlib.pyplot as plt\n",
    "import cv2\n",
    "import easyocr\n",
    "from IPython.display import Image"
   ]
  },
  {
   "cell_type": "code",
   "execution_count": 3,
   "metadata": {},
   "outputs": [],
   "source": [
    "haarcascade = \"..\\model\\haarcascade_russian_plate_number.xml\"\n",
    "\n",
    "cap = cv2.VideoCapture(0)\n",
    "\n",
    "cap.set(3,640) # width\n",
    "cap.set(4,480) # height\n",
    "\n",
    "min_area = 1000\n",
    "count = 0\n"
   ]
  },
  {
   "cell_type": "code",
   "execution_count": 4,
   "metadata": {},
   "outputs": [
    {
     "ename": "error",
     "evalue": "OpenCV(4.7.0) D:\\a\\opencv-python\\opencv-python\\opencv\\modules\\highgui\\src\\window.cpp:1272: error: (-2:Unspecified error) The function is not implemented. Rebuild the library with Windows, GTK+ 2.x or Cocoa support. If you are on Ubuntu or Debian, install libgtk2.0-dev and pkg-config, then re-run cmake or configure script in function 'cvShowImage'\n",
     "output_type": "error",
     "traceback": [
      "\u001b[1;31m---------------------------------------------------------------------------\u001b[0m",
      "\u001b[1;31merror\u001b[0m                                     Traceback (most recent call last)",
      "Cell \u001b[1;32mIn[4], line 19\u001b[0m\n\u001b[0;32m     16\u001b[0m         img_roi \u001b[38;5;241m=\u001b[39m img[y:y\u001b[38;5;241m+\u001b[39mh, x:x\u001b[38;5;241m+\u001b[39mw]\n\u001b[0;32m     17\u001b[0m         cv2\u001b[38;5;241m.\u001b[39mimshow(\u001b[38;5;124m\"\u001b[39m\u001b[38;5;124mROI\u001b[39m\u001b[38;5;124m\"\u001b[39m, img_roi)\n\u001b[1;32m---> 19\u001b[0m \u001b[43mcv2\u001b[49m\u001b[38;5;241;43m.\u001b[39;49m\u001b[43mimshow\u001b[49m\u001b[43m(\u001b[49m\u001b[38;5;124;43m\"\u001b[39;49m\u001b[38;5;124;43mResult\u001b[39;49m\u001b[38;5;124;43m\"\u001b[39;49m\u001b[43m,\u001b[49m\u001b[43m \u001b[49m\u001b[43mimg\u001b[49m\u001b[43m)\u001b[49m\n\u001b[0;32m     20\u001b[0m cap\u001b[38;5;241m.\u001b[39mrelease()\n\u001b[0;32m     21\u001b[0m cv2\u001b[38;5;241m.\u001b[39mdestroyAllWindows\n",
      "\u001b[1;31merror\u001b[0m: OpenCV(4.7.0) D:\\a\\opencv-python\\opencv-python\\opencv\\modules\\highgui\\src\\window.cpp:1272: error: (-2:Unspecified error) The function is not implemented. Rebuild the library with Windows, GTK+ 2.x or Cocoa support. If you are on Ubuntu or Debian, install libgtk2.0-dev and pkg-config, then re-run cmake or configure script in function 'cvShowImage'\n"
     ]
    }
   ],
   "source": [
    "while True:\n",
    "    success, img = cap.read()\n",
    "\n",
    "    plate_cascade = cv2.CascadeClassifier(haarcascade)\n",
    "    img_gray = cv2.cvtColor(img, cv2.COLOR_BGR2GRAY)\n",
    "\n",
    "    plates = plate_cascade.detectMultiScale(img_gray, 1.1, 4)\n",
    "\n",
    "    for (x,y,w,h) in plates:\n",
    "        area = w * h\n",
    "\n",
    "        if area > min_area:\n",
    "            cv2.rectangle(img, (x,y), (x+w, y+h), (0,255,0), 2)\n",
    "            cv2.putText(img, \"Number Plate\", (x,y-5), cv2.FONT_HERSHEY_COMPLEX_SMALL, 1, (255,0,255), 2)\n",
    "    \n",
    "            img_roi = img[y:y+h, x:x+w]\n",
    "            cv2.imshow(\"ROI\", img_roi)\n",
    "\n",
    "    cv2.imshow(\"Result\", img)\n",
    "    cv2.waitkey(0)\n",
    "    cv2.destroyAllWindows\n",
    "   \n",
    "#     if cv2.waitKey(1) & 0xFF == ord('s'):\n",
    "#         cv2.imwrite(\"../plates/scanned_img_\" + str(count) + \".jpg\", img_roi)\n",
    "#         cv2.rectangle(img, (0,200), (640,300), (0,255,0), cv2.FILLED)\n",
    "#         cv2.putText(img, \"Plate Saved\", (150,265), cv2.FONT_HERSHEY_COMPLEX_SMALL, 2, (0,0,255), 2)\n",
    "#         cv2.imshow(\"Results\", img)\n",
    "#         cv2.waitKey(500)\n",
    "#         count += 1\n",
    "#     elif cv2.waitKey(1) & 0xFF == ord('q'):\n",
    "        "
   ]
  },
  {
   "cell_type": "code",
   "execution_count": null,
   "metadata": {
    "colab": {
     "base_uri": "https://localhost:8080/",
     "height": 65
    },
    "id": "hxBLiy0AChPp",
    "outputId": "6f8e0eb9-eeaf-4561-dd16-50689139a125"
   },
   "outputs": [],
   "source": [
    "Image(\"../plates/scanned_img_0.jpg\")"
   ]
  },
  {
   "cell_type": "code",
   "execution_count": null,
   "metadata": {
    "colab": {
     "base_uri": "https://localhost:8080/"
    },
    "id": "ZYD5fu4NCq2U",
    "outputId": "8a9390ef-9bad-443f-88d8-48411a496fc6",
    "scrolled": true
   },
   "outputs": [],
   "source": [
    "reader = easyocr.Reader(['en'])"
   ]
  },
  {
   "cell_type": "code",
   "execution_count": null,
   "metadata": {
    "id": "ZCHP-450Cl9x"
   },
   "outputs": [],
   "source": [
    "output = reader.readtext('../plates/scanned_img_0.jpg')\n",
    "output"
   ]
  },
  {
   "cell_type": "code",
   "execution_count": null,
   "metadata": {
    "id": "SW8P4tA2DHKh"
   },
   "outputs": [],
   "source": [
    "cord = output[-1][0]\n",
    "cord"
   ]
  },
  {
   "cell_type": "code",
   "execution_count": null,
   "metadata": {
    "colab": {
     "base_uri": "https://localhost:8080/"
    },
    "id": "3nXoyWdoEc2i",
    "outputId": "71c34b51-6ea6-4274-b6e8-e731cfe78afb"
   },
   "outputs": [],
   "source": [
    "a = list(zip(*cord))\n",
    "a"
   ]
  },
  {
   "cell_type": "code",
   "execution_count": null,
   "metadata": {
    "colab": {
     "base_uri": "https://localhost:8080/"
    },
    "id": "-Talju53ExKb",
    "outputId": "678b4ff1-531c-46d6-ec2e-e6b209d0dc8e"
   },
   "outputs": [],
   "source": [
    "min(a[0])\n",
    "min(a[1])\n",
    "\n",
    "max(a[0])\n",
    "max(a[1])\n",
    "\n",
    "print(min(a[0]), min(a[1]), max(a[0]), max(a[1]),)"
   ]
  },
  {
   "cell_type": "code",
   "execution_count": null,
   "metadata": {
    "id": "7zwP5q_zDKuh"
   },
   "outputs": [],
   "source": [
    "x_min, y_min = [int(min(idx)) for idx in zip(*cord)]\n",
    "x_min, y_min"
   ]
  },
  {
   "cell_type": "code",
   "execution_count": null,
   "metadata": {
    "id": "XSPxi2_RDMXJ"
   },
   "outputs": [],
   "source": [
    "x_max, y_max = [int(max(idx)) for idx in zip(*cord)]\n",
    "x_max, y_max"
   ]
  },
  {
   "cell_type": "code",
   "execution_count": null,
   "metadata": {
    "id": "NNGr7AzoD3xK"
   },
   "outputs": [],
   "source": [
    "from pylab import rcParams\n",
    "rcParams['figure.figsize'] = 20, 30"
   ]
  },
  {
   "cell_type": "code",
   "execution_count": null,
   "metadata": {
    "colab": {
     "base_uri": "https://localhost:8080/",
     "height": 825
    },
    "id": "DSxNIGFGDNga",
    "outputId": "ed0de668-4fb3-4b71-af56-2942a58d15f0"
   },
   "outputs": [],
   "source": [
    "image = cv2.imread('../plates/scanned_img_0.jpg')\n",
    "cv2.rectangle(image,(x_min,y_min),(x_max,y_max),(0,0,255),2)\n",
    "plt.imshow(cv2.cvtColor(image, cv2.COLOR_BGR2RGB))"
   ]
  },
  {
   "cell_type": "code",
   "execution_count": null,
   "metadata": {
    "id": "4x7HEJ-dHzRp"
   },
   "outputs": [],
   "source": []
  }
 ],
 "metadata": {
  "accelerator": "GPU",
  "colab": {
   "provenance": []
  },
  "kernelspec": {
   "display_name": "Python 3 (ipykernel)",
   "language": "python",
   "name": "python3"
  },
  "language_info": {
   "codemirror_mode": {
    "name": "ipython",
    "version": 3
   },
   "file_extension": ".py",
   "mimetype": "text/x-python",
   "name": "python",
   "nbconvert_exporter": "python",
   "pygments_lexer": "ipython3",
   "version": "3.10.9"
  }
 },
 "nbformat": 4,
 "nbformat_minor": 1
}
